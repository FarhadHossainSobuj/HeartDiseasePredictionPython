{
 "cells": [
  {
   "cell_type": "code",
   "execution_count": 36,
   "metadata": {},
   "outputs": [],
   "source": [
    "# import tensorflow, keras and pandas\n",
    "import tensorflow as tf\n",
    "from tensorflow import keras\n",
    "import pandas as pd\n",
    "import numpy as np\n",
    "import warnings\n",
    "warnings.filterwarnings('ignore')\n",
    "from sklearn.preprocessing import MinMaxScaler\n",
    "#from tensorflow.contrib import lite"
   ]
  },
  {
   "cell_type": "code",
   "execution_count": null,
   "metadata": {},
   "outputs": [],
   "source": []
  },
  {
   "cell_type": "code",
   "execution_count": 2,
   "metadata": {},
   "outputs": [
    {
     "name": "stdout",
     "output_type": "stream",
     "text": [
      "<bound method NDFrame.describe of      age  sex  cp  trestbps  chol  fbs  restecg  thalach  exang  oldpeak  \\\n",
      "80    41    1   2       112   250    0        1      179      0      0.0   \n",
      "215   43    0   0       132   341    1        0      136      1      3.0   \n",
      "145   70    1   1       156   245    0        0      143      0      0.0   \n",
      "270   46    1   0       120   249    0        0      144      0      0.8   \n",
      "92    52    1   2       138   223    0        1      169      0      0.0   \n",
      "..   ...  ...  ..       ...   ...  ...      ...      ...    ...      ...   \n",
      "200   44    1   0       110   197    0        0      177      0      0.0   \n",
      "41    48    1   1       130   245    0        0      180      0      0.2   \n",
      "173   58    1   2       132   224    0        0      173      0      3.2   \n",
      "43    53    0   0       130   264    0        0      143      0      0.4   \n",
      "97    52    1   0       108   233    1        1      147      0      0.1   \n",
      "\n",
      "     slope  ca  thal  target  \n",
      "80       2   0     2       1  \n",
      "215      1   0     3       0  \n",
      "145      2   0     2       1  \n",
      "270      2   0     3       0  \n",
      "92       2   4     2       1  \n",
      "..     ...  ..   ...     ...  \n",
      "200      2   1     2       0  \n",
      "41       1   0     2       1  \n",
      "173      2   2     3       0  \n",
      "43       1   0     2       1  \n",
      "97       2   3     3       1  \n",
      "\n",
      "[303 rows x 14 columns]>\n"
     ]
    }
   ],
   "source": [
    "# read data file\n",
    "# shuffle the rows since we had removed some columns and rows\n",
    "# to achieve better accuracy \n",
    "data = pd.read_csv('dataset.csv', na_values=['.'])\n",
    "data = data.sample(frac=1)\n",
    "print(data.describe)"
   ]
  },
  {
   "cell_type": "code",
   "execution_count": 4,
   "metadata": {},
   "outputs": [
    {
     "name": "stdout",
     "output_type": "stream",
     "text": [
      "[ 41.   1.   2. 112. 250.   0.   1. 179.   0.   0.   2.   0.   2.]\n",
      "1\n",
      "(100, 13)\n"
     ]
    }
   ],
   "source": [
    "# separate the output data (column 'num') from rest of the data\n",
    "values_series = data['target']\n",
    "x_data = data.pop('target')\n",
    "\n",
    "# split input(x) and output (y) data \n",
    "# for training and testing\n",
    "train_x_data = data[0:100]\n",
    "train_y_data = x_data[0:100]\n",
    "train_x_data = train_x_data.values\n",
    "train_y_data = train_y_data.values\n",
    "\n",
    "test_x_data = data[100:]\n",
    "test_y_data = x_data[100:]\n",
    "test_x_data = test_x_data.values\n",
    "test_y_data = test_y_data.values\n",
    "\n",
    "\n",
    "print(train_x_data[0])\n",
    "print(train_y_data[0])\n",
    "\n",
    "print(train_x_data.shape)"
   ]
  },
  {
   "cell_type": "code",
   "execution_count": 5,
   "metadata": {},
   "outputs": [
    {
     "name": "stdout",
     "output_type": "stream",
     "text": [
      "WARNING:tensorflow:From C:\\anaconda\\Lib\\site-packages\\tensorflow_core\\python\\ops\\resource_variable_ops.py:1630: calling BaseResourceVariable.__init__ (from tensorflow.python.ops.resource_variable_ops) with constraint is deprecated and will be removed in a future version.\n",
      "Instructions for updating:\n",
      "If using Keras pass *_constraint arguments to layers.\n",
      "Model: \"sequential\"\n",
      "_________________________________________________________________\n",
      "Layer (type)                 Output Shape              Param #   \n",
      "=================================================================\n",
      "dense (Dense)                (None, 10)                140       \n",
      "_________________________________________________________________\n",
      "dense_1 (Dense)              (None, 64)                704       \n",
      "_________________________________________________________________\n",
      "dense_2 (Dense)              (None, 32)                2080      \n",
      "_________________________________________________________________\n",
      "dense_3 (Dense)              (None, 16)                528       \n",
      "_________________________________________________________________\n",
      "dense_4 (Dense)              (None, 1)                 17        \n",
      "=================================================================\n",
      "Total params: 3,469\n",
      "Trainable params: 3,469\n",
      "Non-trainable params: 0\n",
      "_________________________________________________________________\n"
     ]
    }
   ],
   "source": [
    "# create model\n",
    "model = keras.Sequential()\n",
    "\n",
    "# add layers\n",
    "model.add(keras.layers.Dense(10, activation=tf.nn.relu, input_shape=(train_x_data.shape[1],)))\n",
    "model.add(keras.layers.Dense(64, activation=tf.nn.relu))\n",
    "model.add(keras.layers.Dense(32, activation=tf.nn.relu))\n",
    "model.add(keras.layers.Dense(16, activation=tf.nn.relu))\n",
    "\n",
    "# last layer has only two possible outcomes\n",
    "# either 0 or 1 indicating not diagnosed and diagnosed respectively\n",
    "model.add(keras.layers.Dense(1, activation=tf.nn.sigmoid))\n",
    "\n",
    "# get summary of the model\n",
    "model.summary()"
   ]
  },
  {
   "cell_type": "code",
   "execution_count": 6,
   "metadata": {},
   "outputs": [
    {
     "name": "stdout",
     "output_type": "stream",
     "text": [
      "WARNING:tensorflow:From C:\\anaconda\\Lib\\site-packages\\tensorflow_core\\python\\ops\\nn_impl.py:183: where (from tensorflow.python.ops.array_ops) is deprecated and will be removed in a future version.\n",
      "Instructions for updating:\n",
      "Use tf.where in 2.0, which has the same broadcast rule as np.where\n"
     ]
    }
   ],
   "source": [
    "# compile the model\n",
    "model.compile(optimizer=tf.train.AdamOptimizer(),\n",
    "              loss='binary_crossentropy',\n",
    "              metrics=['accuracy'])"
   ]
  },
  {
   "cell_type": "code",
   "execution_count": 7,
   "metadata": {},
   "outputs": [
    {
     "name": "stdout",
     "output_type": "stream",
     "text": [
      "Train on 100 samples, validate on 203 samples\n",
      "Epoch 1/40\n",
      "100/100 [==============================] - 1s 10ms/sample - loss: 10.4409 - acc: 0.4300 - val_loss: 7.5088 - val_acc: 0.4680\n",
      "Epoch 2/40\n",
      "100/100 [==============================] - 0s 150us/sample - loss: 8.3933 - acc: 0.4300 - val_loss: 5.7473 - val_acc: 0.4680\n",
      "Epoch 3/40\n",
      "100/100 [==============================] - 0s 90us/sample - loss: 6.4422 - acc: 0.4300 - val_loss: 4.0671 - val_acc: 0.4680\n",
      "Epoch 4/40\n",
      "100/100 [==============================] - 0s 80us/sample - loss: 4.5930 - acc: 0.4300 - val_loss: 2.4575 - val_acc: 0.4680\n",
      "Epoch 5/40\n",
      "100/100 [==============================] - 0s 100us/sample - loss: 2.8123 - acc: 0.4300 - val_loss: 1.0894 - val_acc: 0.4680\n",
      "Epoch 6/40\n",
      "100/100 [==============================] - 0s 70us/sample - loss: 1.2700 - acc: 0.4300 - val_loss: 0.7150 - val_acc: 0.5665\n",
      "Epoch 7/40\n",
      "100/100 [==============================] - 0s 80us/sample - loss: 0.7722 - acc: 0.5900 - val_loss: 1.2761 - val_acc: 0.5271\n",
      "Epoch 8/40\n",
      "100/100 [==============================] - 0s 90us/sample - loss: 1.2512 - acc: 0.5600 - val_loss: 1.6354 - val_acc: 0.5320\n",
      "Epoch 9/40\n",
      "100/100 [==============================] - 0s 70us/sample - loss: 1.5764 - acc: 0.5700 - val_loss: 1.5724 - val_acc: 0.5320\n",
      "Epoch 10/40\n",
      "100/100 [==============================] - 0s 80us/sample - loss: 1.4923 - acc: 0.5700 - val_loss: 1.2111 - val_acc: 0.5369\n",
      "Epoch 11/40\n",
      "100/100 [==============================] - 0s 54us/sample - loss: 1.1455 - acc: 0.5700 - val_loss: 0.8360 - val_acc: 0.5567\n",
      "Epoch 12/40\n",
      "100/100 [==============================] - 0s 90us/sample - loss: 0.8057 - acc: 0.6200 - val_loss: 0.7586 - val_acc: 0.5172\n",
      "Epoch 13/40\n",
      "100/100 [==============================] - 0s 120us/sample - loss: 0.7798 - acc: 0.4500 - val_loss: 0.9743 - val_acc: 0.4926\n",
      "Epoch 14/40\n",
      "100/100 [==============================] - 0s 100us/sample - loss: 1.0416 - acc: 0.4400 - val_loss: 1.0731 - val_acc: 0.4877\n",
      "Epoch 15/40\n",
      "100/100 [==============================] - 0s 60us/sample - loss: 1.1548 - acc: 0.4400 - val_loss: 0.9634 - val_acc: 0.4828\n",
      "Epoch 16/40\n",
      "100/100 [==============================] - 0s 100us/sample - loss: 1.0314 - acc: 0.4500 - val_loss: 0.7924 - val_acc: 0.4926\n",
      "Epoch 17/40\n",
      "100/100 [==============================] - 0s 80us/sample - loss: 0.8296 - acc: 0.4400 - val_loss: 0.7285 - val_acc: 0.5419\n",
      "Epoch 18/40\n",
      "100/100 [==============================] - 0s 70us/sample - loss: 0.7312 - acc: 0.5500 - val_loss: 0.8092 - val_acc: 0.5813\n",
      "Epoch 19/40\n",
      "100/100 [==============================] - 0s 80us/sample - loss: 0.7833 - acc: 0.6300 - val_loss: 0.9302 - val_acc: 0.5567\n",
      "Epoch 20/40\n",
      "100/100 [==============================] - 0s 70us/sample - loss: 0.8864 - acc: 0.6100 - val_loss: 0.9888 - val_acc: 0.5567\n",
      "Epoch 21/40\n",
      "100/100 [==============================] - 0s 90us/sample - loss: 0.9364 - acc: 0.6000 - val_loss: 0.9556 - val_acc: 0.5567\n",
      "Epoch 22/40\n",
      "100/100 [==============================] - 0s 100us/sample - loss: 0.9036 - acc: 0.6100 - val_loss: 0.8588 - val_acc: 0.5517\n",
      "Epoch 23/40\n",
      "100/100 [==============================] - 0s 60us/sample - loss: 0.8162 - acc: 0.6000 - val_loss: 0.7617 - val_acc: 0.5714\n",
      "Epoch 24/40\n",
      "100/100 [==============================] - 0s 90us/sample - loss: 0.7366 - acc: 0.6600 - val_loss: 0.7244 - val_acc: 0.5468\n",
      "Epoch 25/40\n",
      "100/100 [==============================] - 0s 100us/sample - loss: 0.7215 - acc: 0.5400 - val_loss: 0.7499 - val_acc: 0.5419\n",
      "Epoch 26/40\n",
      "100/100 [==============================] - 0s 60us/sample - loss: 0.7665 - acc: 0.4600 - val_loss: 0.7852 - val_acc: 0.5172\n",
      "Epoch 27/40\n",
      "100/100 [==============================] - 0s 80us/sample - loss: 0.8129 - acc: 0.4800 - val_loss: 0.7850 - val_acc: 0.5172\n",
      "Epoch 28/40\n",
      "100/100 [==============================] - 0s 110us/sample - loss: 0.8113 - acc: 0.4800 - val_loss: 0.7506 - val_acc: 0.5369\n",
      "Epoch 29/40\n",
      "100/100 [==============================] - 0s 50us/sample - loss: 0.7642 - acc: 0.4500 - val_loss: 0.7191 - val_acc: 0.5862\n",
      "Epoch 30/40\n",
      "100/100 [==============================] - 0s 100us/sample - loss: 0.7133 - acc: 0.5500 - val_loss: 0.7257 - val_acc: 0.5911\n",
      "Epoch 31/40\n",
      "100/100 [==============================] - 0s 100us/sample - loss: 0.6998 - acc: 0.6400 - val_loss: 0.7659 - val_acc: 0.5665\n",
      "Epoch 32/40\n",
      "100/100 [==============================] - 0s 70us/sample - loss: 0.7255 - acc: 0.6700 - val_loss: 0.8020 - val_acc: 0.5764\n",
      "Epoch 33/40\n",
      "100/100 [==============================] - 0s 100us/sample - loss: 0.7543 - acc: 0.6200 - val_loss: 0.8012 - val_acc: 0.5665\n",
      "Epoch 34/40\n",
      "100/100 [==============================] - 0s 70us/sample - loss: 0.7532 - acc: 0.6200 - val_loss: 0.7642 - val_acc: 0.5665\n",
      "Epoch 35/40\n",
      "100/100 [==============================] - 0s 70us/sample - loss: 0.7230 - acc: 0.6600 - val_loss: 0.7209 - val_acc: 0.5961\n",
      "Epoch 36/40\n",
      "100/100 [==============================] - 0s 110us/sample - loss: 0.6927 - acc: 0.6400 - val_loss: 0.7012 - val_acc: 0.6059\n",
      "Epoch 37/40\n",
      "100/100 [==============================] - 0s 60us/sample - loss: 0.6885 - acc: 0.6300 - val_loss: 0.7060 - val_acc: 0.6010\n",
      "Epoch 38/40\n",
      "100/100 [==============================] - 0s 70us/sample - loss: 0.7064 - acc: 0.5100 - val_loss: 0.7124 - val_acc: 0.6010\n",
      "Epoch 39/40\n",
      "100/100 [==============================] - 0s 99us/sample - loss: 0.7193 - acc: 0.5200 - val_loss: 0.7052 - val_acc: 0.6108\n",
      "Epoch 40/40\n",
      "100/100 [==============================] - 0s 70us/sample - loss: 0.7099 - acc: 0.5300 - val_loss: 0.6928 - val_acc: 0.6010\n"
     ]
    }
   ],
   "source": [
    "# model fitting, we train and test the data\n",
    "history = model.fit(train_x_data,\n",
    "                    train_y_data,\n",
    "                    epochs=40,\n",
    "                    batch_size=256,\n",
    "                    validation_data=(test_x_data, test_y_data),\n",
    "                    verbose=1)"
   ]
  },
  {
   "cell_type": "code",
   "execution_count": 11,
   "metadata": {},
   "outputs": [
    {
     "name": "stdout",
     "output_type": "stream",
     "text": [
      "203/203 [==============================] - 0s 206us/sample - loss: 0.6928 - acc: 0.6010\n",
      "[0.6928487490550638, 0.6009852]\n"
     ]
    }
   ],
   "source": [
    "# evaluate the model\n",
    "results = model.evaluate(test_x_data, test_y_data)\n",
    "\n",
    "print(results)"
   ]
  },
  {
   "cell_type": "code",
   "execution_count": 31,
   "metadata": {},
   "outputs": [],
   "source": [
    "Newdataset = pd.read_csv('newdata.csv')\n",
    "ynew=model.predict(Newdataset)"
   ]
  },
  {
   "cell_type": "code",
   "execution_count": null,
   "metadata": {},
   "outputs": [],
   "source": []
  },
  {
   "cell_type": "code",
   "execution_count": 37,
   "metadata": {},
   "outputs": [
    {
     "name": "stdout",
     "output_type": "stream",
     "text": [
      "WARNING:tensorflow:TensorFlow optimizers do not make it possible to access optimizer attributes or optimizer state after instantiation. As a result, we cannot save the optimizer as part of the model save file. You will have to compile your model again after loading it. Prefer using a Keras optimizer instead (see keras.io/optimizers).\n"
     ]
    }
   ],
   "source": [
    "keras_file = 'linear.h5'\n",
    "keras.models.save_model(model, keras_file)"
   ]
  },
  {
   "cell_type": "code",
   "execution_count": 42,
   "metadata": {},
   "outputs": [
    {
     "name": "stdout",
     "output_type": "stream",
     "text": [
      "WARNING:tensorflow:From C:\\anaconda\\Lib\\site-packages\\tensorflow_core\\python\\ops\\init_ops.py:97: calling GlorotUniform.__init__ (from tensorflow.python.ops.init_ops) with dtype is deprecated and will be removed in a future version.\n",
      "Instructions for updating:\n",
      "Call initializer instance with the dtype argument instead of passing it to the constructor\n",
      "WARNING:tensorflow:From C:\\anaconda\\Lib\\site-packages\\tensorflow_core\\python\\ops\\init_ops.py:97: calling Zeros.__init__ (from tensorflow.python.ops.init_ops) with dtype is deprecated and will be removed in a future version.\n",
      "Instructions for updating:\n",
      "Call initializer instance with the dtype argument instead of passing it to the constructor\n",
      "WARNING:tensorflow:No training configuration found in save file: the model was *not* compiled. Compile it manually.\n",
      "WARNING:tensorflow:From C:\\anaconda\\Lib\\site-packages\\tensorflow_core\\lite\\python\\util.py:249: convert_variables_to_constants (from tensorflow.python.framework.graph_util_impl) is deprecated and will be removed in a future version.\n",
      "Instructions for updating:\n",
      "Use `tf.compat.v1.graph_util.convert_variables_to_constants`\n",
      "WARNING:tensorflow:From C:\\anaconda\\Lib\\site-packages\\tensorflow_core\\python\\framework\\graph_util_impl.py:277: extract_sub_graph (from tensorflow.python.framework.graph_util_impl) is deprecated and will be removed in a future version.\n",
      "Instructions for updating:\n",
      "Use `tf.compat.v1.graph_util.extract_sub_graph`\n",
      "INFO:tensorflow:Froze 10 variables.\n",
      "INFO:tensorflow:Converted 10 variables to const ops.\n"
     ]
    },
    {
     "data": {
      "text/plain": [
       "15912"
      ]
     },
     "execution_count": 42,
     "metadata": {},
     "output_type": "execute_result"
    }
   ],
   "source": [
    "# Convert the model. saved model\n",
    "#converter = tf.lite.TFLiteConverter.from_keras_model(keras_file)\n",
    "#tflite_model = converter.convert()\n",
    "#open('linear.tflite', 'wb').write(tflite_model)\n",
    "\n",
    "converter = tf.lite.TFLiteConverter.from_keras_model_file(keras_file)\n",
    "tflite_model = converter.convert()\n",
    "open(\"linear.tflite\", \"wb\").write(tflite_model)"
   ]
  },
  {
   "cell_type": "code",
   "execution_count": null,
   "metadata": {},
   "outputs": [],
   "source": []
  },
  {
   "cell_type": "code",
   "execution_count": 41,
   "metadata": {},
   "outputs": [
    {
     "ename": "NameError",
     "evalue": "name 'lite' is not defined",
     "output_type": "error",
     "traceback": [
      "\u001b[1;31m---------------------------------------------------------------------------\u001b[0m",
      "\u001b[1;31mNameError\u001b[0m                                 Traceback (most recent call last)",
      "\u001b[1;32m<ipython-input-41-2b761afaf3fd>\u001b[0m in \u001b[0;36m<module>\u001b[1;34m\u001b[0m\n\u001b[0;32m      1\u001b[0m \u001b[1;31m# Converting a SavedModel to a TensorFlow Lite model.\u001b[0m\u001b[1;33m\u001b[0m\u001b[1;33m\u001b[0m\u001b[1;33m\u001b[0m\u001b[0m\n\u001b[1;32m----> 2\u001b[1;33m \u001b[0mconverter\u001b[0m \u001b[1;33m=\u001b[0m \u001b[0mlite\u001b[0m\u001b[1;33m.\u001b[0m\u001b[0mTFLiteConverter\u001b[0m\u001b[1;33m.\u001b[0m\u001b[0mfrom_saved_model\u001b[0m\u001b[1;33m(\u001b[0m\u001b[0mkeras_file\u001b[0m\u001b[1;33m)\u001b[0m\u001b[1;33m\u001b[0m\u001b[1;33m\u001b[0m\u001b[0m\n\u001b[0m\u001b[0;32m      3\u001b[0m \u001b[0mtflite_model\u001b[0m \u001b[1;33m=\u001b[0m \u001b[0mconverter\u001b[0m\u001b[1;33m.\u001b[0m\u001b[0mconvert\u001b[0m\u001b[1;33m(\u001b[0m\u001b[1;33m)\u001b[0m\u001b[1;33m\u001b[0m\u001b[1;33m\u001b[0m\u001b[0m\n",
      "\u001b[1;31mNameError\u001b[0m: name 'lite' is not defined"
     ]
    }
   ],
   "source": [
    "# Converting a SavedModel to a TensorFlow Lite model.\n",
    "converter = lite.TFLiteConverter.from_saved_model(keras_file)\n",
    "tflite_model = converter.convert()"
   ]
  },
  {
   "cell_type": "code",
   "execution_count": null,
   "metadata": {},
   "outputs": [],
   "source": []
  },
  {
   "cell_type": "code",
   "execution_count": 38,
   "metadata": {},
   "outputs": [
    {
     "ename": "AttributeError",
     "evalue": "type object 'TFLiteConverter' has no attribute 'from_keras_model'",
     "output_type": "error",
     "traceback": [
      "\u001b[1;31m---------------------------------------------------------------------------\u001b[0m",
      "\u001b[1;31mAttributeError\u001b[0m                            Traceback (most recent call last)",
      "\u001b[1;32m<ipython-input-38-a534bc2cf754>\u001b[0m in \u001b[0;36m<module>\u001b[1;34m\u001b[0m\n\u001b[0;32m      1\u001b[0m \u001b[1;31m# Convert the model. keras\u001b[0m\u001b[1;33m\u001b[0m\u001b[1;33m\u001b[0m\u001b[1;33m\u001b[0m\u001b[0m\n\u001b[1;32m----> 2\u001b[1;33m \u001b[0mconverter\u001b[0m \u001b[1;33m=\u001b[0m \u001b[0mtf\u001b[0m\u001b[1;33m.\u001b[0m\u001b[0mlite\u001b[0m\u001b[1;33m.\u001b[0m\u001b[0mTFLiteConverter\u001b[0m\u001b[1;33m.\u001b[0m\u001b[0mfrom_keras_model\u001b[0m\u001b[1;33m(\u001b[0m\u001b[0mmodel\u001b[0m\u001b[1;33m)\u001b[0m\u001b[1;33m\u001b[0m\u001b[1;33m\u001b[0m\u001b[0m\n\u001b[0m\u001b[0;32m      3\u001b[0m \u001b[0mtflite_model\u001b[0m \u001b[1;33m=\u001b[0m \u001b[0mconverter\u001b[0m\u001b[1;33m.\u001b[0m\u001b[0mconvert\u001b[0m\u001b[1;33m(\u001b[0m\u001b[1;33m)\u001b[0m\u001b[1;33m\u001b[0m\u001b[1;33m\u001b[0m\u001b[0m\n",
      "\u001b[1;31mAttributeError\u001b[0m: type object 'TFLiteConverter' has no attribute 'from_keras_model'"
     ]
    }
   ],
   "source": [
    "# Convert the model. keras\n",
    "converter = tf.lite.TFLiteConverter.from_keras_model(model)\n",
    "tflite_model = converter.convert()"
   ]
  },
  {
   "cell_type": "code",
   "execution_count": null,
   "metadata": {},
   "outputs": [],
   "source": []
  },
  {
   "cell_type": "code",
   "execution_count": null,
   "metadata": {},
   "outputs": [],
   "source": []
  },
  {
   "cell_type": "code",
   "execution_count": null,
   "metadata": {},
   "outputs": [],
   "source": []
  },
  {
   "cell_type": "code",
   "execution_count": null,
   "metadata": {},
   "outputs": [],
   "source": []
  },
  {
   "cell_type": "code",
   "execution_count": 34,
   "metadata": {},
   "outputs": [
    {
     "data": {
      "text/plain": [
       "array([[0.5642428]], dtype=float32)"
      ]
     },
     "execution_count": 34,
     "metadata": {},
     "output_type": "execute_result"
    }
   ],
   "source": []
  },
  {
   "cell_type": "code",
   "execution_count": 33,
   "metadata": {},
   "outputs": [
    {
     "data": {
      "text/plain": [
       "array([0.50224805], dtype=float32)"
      ]
     },
     "execution_count": 33,
     "metadata": {},
     "output_type": "execute_result"
    }
   ],
   "source": [
    "X = pd.read_csv('newdata.csv')\n",
    "sc=MinMaxScaler()\n",
    "X_test=sc.fit_transform(X)\n",
    "#X_test=([[65,1,0,145,233,1,2,150,1,2.3,3,0,7],[43,0,0,132,341,1,0,136,1,3,1,0,3]])\n",
    "y_pred = model.predict(X_test)\n",
    "y_pred[0]\n"
   ]
  },
  {
   "cell_type": "code",
   "execution_count": null,
   "metadata": {},
   "outputs": [],
   "source": []
  },
  {
   "cell_type": "code",
   "execution_count": null,
   "metadata": {},
   "outputs": [],
   "source": []
  },
  {
   "cell_type": "code",
   "execution_count": 9,
   "metadata": {},
   "outputs": [
    {
     "data": {
      "text/plain": [
       "<Figure size 640x480 with 1 Axes>"
      ]
     },
     "metadata": {},
     "output_type": "display_data"
    }
   ],
   "source": [
    "# Create graph for acuracy and loss\n",
    "history_dict = history.history\n",
    "history_dict.keys()\n",
    "\n",
    "import matplotlib.pyplot as plt\n",
    "\n",
    "acc = history.history['acc']\n",
    "val_acc = history.history['val_acc']\n",
    "loss = history.history['loss']\n",
    "val_loss = history.history['val_loss']\n",
    "\n",
    "epochs = range(1, len(acc) + 1)\n",
    "\n",
    "# \"bo\" is for \"blue dot\"\n",
    "plt.plot(epochs, loss, 'bo', label='Training loss')\n",
    "# b is for \"solid blue line\"\n",
    "plt.plot(epochs, val_loss, 'b', label='Validation loss')\n",
    "plt.title('Training and validation loss')\n",
    "plt.xlabel('Epochs')\n",
    "plt.ylabel('Loss')\n",
    "plt.legend()\n",
    "\n",
    "plt.show()"
   ]
  },
  {
   "cell_type": "code",
   "execution_count": 10,
   "metadata": {},
   "outputs": [
    {
     "data": {
      "image/png": "[encoded data removed]",
      "text/plain": [
       "<Figure size 432x288 with 1 Axes>"
      ]
     },
     "metadata": {
      "needs_background": "light"
     },
     "output_type": "display_data"
    }
   ],
   "source": [
    "plt.clf()   # clear figure\n",
    "acc_values = history_dict['acc']\n",
    "val_acc_values = history_dict['val_acc']\n",
    "\n",
    "plt.plot(epochs, acc, 'bo', label='Training acc')\n",
    "plt.plot(epochs, val_acc, 'b', label='Validation acc')\n",
    "plt.title('Training and validation accuracy')\n",
    "plt.xlabel('Epochs')\n",
    "plt.ylabel('Accuracy')\n",
    "plt.legend()\n",
    "\n",
    "plt.show()"
   ]
  },
  {
   "cell_type": "code",
   "execution_count": null,
   "metadata": {},
   "outputs": [],
   "source": []
  }
 ],
 "metadata": {
  "kernelspec": {
   "display_name": "Python 3",
   "language": "python",
   "name": "python3"
  },
  "language_info": {
   "codemirror_mode": {
    "name": "ipython",
    "version": 3
   },
   "file_extension": ".py",
   "mimetype": "text/x-python",
   "name": "python",
   "nbconvert_exporter": "python",
   "pygments_lexer": "ipython3",
   "version": "3.7.4"
  }
 },
 "nbformat": 4,
 "nbformat_minor": 2
}
